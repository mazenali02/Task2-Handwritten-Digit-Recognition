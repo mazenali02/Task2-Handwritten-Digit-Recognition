{
 "cells": [
  {
   "cell_type": "code",
   "execution_count": 5,
   "id": "8c51dc2e",
   "metadata": {},
   "outputs": [
    {
     "name": "stdout",
     "output_type": "stream",
     "text": [
      "C:\\Users\\Mazen Ali\\Documents\\digit-recognizer\\sample_submission.csv\n",
      "C:\\Users\\Mazen Ali\\Documents\\digit-recognizer\\test.csv\n",
      "C:\\Users\\Mazen Ali\\Documents\\digit-recognizer\\train.csv\n",
      "C:\\Users\\Mazen Ali\\Documents\\digit-recognizer\\Untitled.ipynb\n",
      "C:\\Users\\Mazen Ali\\Documents\\digit-recognizer\\.ipynb_checkpoints\\Untitled-checkpoint.ipynb\n"
     ]
    }
   ],
   "source": [
    "import os,os.path\n",
    "for dirname, _, filenames in os.walk('C:\\\\Users\\\\Mazen Ali\\\\Documents\\\\digit-recognizer'):\n",
    "    for filename in filenames:\n",
    "        print(os.path.join(dirname, filename))"
   ]
  },
  {
   "cell_type": "code",
   "execution_count": 6,
   "id": "a185983a",
   "metadata": {},
   "outputs": [],
   "source": [
    "import numpy as np \n",
    "import pandas as pd\n",
    "import tensorflow as tf\n",
    "from tensorflow import keras\n",
    "import seaborn as sns\n",
    "import matplotlib\n",
    "from matplotlib.pyplot import figure\n",
    "import matplotlib.pyplot as plt\n",
    "import matplotlib.image as mpimg\n",
    "from tensorflow.keras.models import Model\n",
    "from tensorflow.keras.models import Sequential\n",
    "from tensorflow.keras.optimizers import RMSprop\n",
    "from keras.utils.np_utils import to_categorical\n",
    "from tensorflow.keras.layers import Conv2D, MaxPooling2D, Activation, Flatten, Dense, Dropout, BatchNormalization,MaxPool2D\n",
    "from tensorflow.keras.layers import Convolution2D\n",
    "from sklearn.metrics import accuracy_score, f1_score, recall_score, precision_score, classification_report\n",
    "from sklearn.metrics import ConfusionMatrixDisplay\n",
    "from sklearn.model_selection import train_test_split\n",
    "from tensorflow.keras.optimizers import Adam\n",
    "%matplotlib inline\n",
    "\n",
    "\n"
   ]
  },
  {
   "cell_type": "code",
   "execution_count": 7,
   "id": "97da8401",
   "metadata": {
    "scrolled": true
   },
   "outputs": [
    {
     "data": {
      "text/html": [
       "<div>\n",
       "<style scoped>\n",
       "    .dataframe tbody tr th:only-of-type {\n",
       "        vertical-align: middle;\n",
       "    }\n",
       "\n",
       "    .dataframe tbody tr th {\n",
       "        vertical-align: top;\n",
       "    }\n",
       "\n",
       "    .dataframe thead th {\n",
       "        text-align: right;\n",
       "    }\n",
       "</style>\n",
       "<table border=\"1\" class=\"dataframe\">\n",
       "  <thead>\n",
       "    <tr style=\"text-align: right;\">\n",
       "      <th></th>\n",
       "      <th>label</th>\n",
       "      <th>pixel0</th>\n",
       "      <th>pixel1</th>\n",
       "      <th>pixel2</th>\n",
       "      <th>pixel3</th>\n",
       "      <th>pixel4</th>\n",
       "      <th>pixel5</th>\n",
       "      <th>pixel6</th>\n",
       "      <th>pixel7</th>\n",
       "      <th>pixel8</th>\n",
       "      <th>...</th>\n",
       "      <th>pixel774</th>\n",
       "      <th>pixel775</th>\n",
       "      <th>pixel776</th>\n",
       "      <th>pixel777</th>\n",
       "      <th>pixel778</th>\n",
       "      <th>pixel779</th>\n",
       "      <th>pixel780</th>\n",
       "      <th>pixel781</th>\n",
       "      <th>pixel782</th>\n",
       "      <th>pixel783</th>\n",
       "    </tr>\n",
       "  </thead>\n",
       "  <tbody>\n",
       "    <tr>\n",
       "      <th>0</th>\n",
       "      <td>1</td>\n",
       "      <td>0</td>\n",
       "      <td>0</td>\n",
       "      <td>0</td>\n",
       "      <td>0</td>\n",
       "      <td>0</td>\n",
       "      <td>0</td>\n",
       "      <td>0</td>\n",
       "      <td>0</td>\n",
       "      <td>0</td>\n",
       "      <td>...</td>\n",
       "      <td>0</td>\n",
       "      <td>0</td>\n",
       "      <td>0</td>\n",
       "      <td>0</td>\n",
       "      <td>0</td>\n",
       "      <td>0</td>\n",
       "      <td>0</td>\n",
       "      <td>0</td>\n",
       "      <td>0</td>\n",
       "      <td>0</td>\n",
       "    </tr>\n",
       "    <tr>\n",
       "      <th>1</th>\n",
       "      <td>0</td>\n",
       "      <td>0</td>\n",
       "      <td>0</td>\n",
       "      <td>0</td>\n",
       "      <td>0</td>\n",
       "      <td>0</td>\n",
       "      <td>0</td>\n",
       "      <td>0</td>\n",
       "      <td>0</td>\n",
       "      <td>0</td>\n",
       "      <td>...</td>\n",
       "      <td>0</td>\n",
       "      <td>0</td>\n",
       "      <td>0</td>\n",
       "      <td>0</td>\n",
       "      <td>0</td>\n",
       "      <td>0</td>\n",
       "      <td>0</td>\n",
       "      <td>0</td>\n",
       "      <td>0</td>\n",
       "      <td>0</td>\n",
       "    </tr>\n",
       "    <tr>\n",
       "      <th>2</th>\n",
       "      <td>1</td>\n",
       "      <td>0</td>\n",
       "      <td>0</td>\n",
       "      <td>0</td>\n",
       "      <td>0</td>\n",
       "      <td>0</td>\n",
       "      <td>0</td>\n",
       "      <td>0</td>\n",
       "      <td>0</td>\n",
       "      <td>0</td>\n",
       "      <td>...</td>\n",
       "      <td>0</td>\n",
       "      <td>0</td>\n",
       "      <td>0</td>\n",
       "      <td>0</td>\n",
       "      <td>0</td>\n",
       "      <td>0</td>\n",
       "      <td>0</td>\n",
       "      <td>0</td>\n",
       "      <td>0</td>\n",
       "      <td>0</td>\n",
       "    </tr>\n",
       "    <tr>\n",
       "      <th>3</th>\n",
       "      <td>4</td>\n",
       "      <td>0</td>\n",
       "      <td>0</td>\n",
       "      <td>0</td>\n",
       "      <td>0</td>\n",
       "      <td>0</td>\n",
       "      <td>0</td>\n",
       "      <td>0</td>\n",
       "      <td>0</td>\n",
       "      <td>0</td>\n",
       "      <td>...</td>\n",
       "      <td>0</td>\n",
       "      <td>0</td>\n",
       "      <td>0</td>\n",
       "      <td>0</td>\n",
       "      <td>0</td>\n",
       "      <td>0</td>\n",
       "      <td>0</td>\n",
       "      <td>0</td>\n",
       "      <td>0</td>\n",
       "      <td>0</td>\n",
       "    </tr>\n",
       "    <tr>\n",
       "      <th>4</th>\n",
       "      <td>0</td>\n",
       "      <td>0</td>\n",
       "      <td>0</td>\n",
       "      <td>0</td>\n",
       "      <td>0</td>\n",
       "      <td>0</td>\n",
       "      <td>0</td>\n",
       "      <td>0</td>\n",
       "      <td>0</td>\n",
       "      <td>0</td>\n",
       "      <td>...</td>\n",
       "      <td>0</td>\n",
       "      <td>0</td>\n",
       "      <td>0</td>\n",
       "      <td>0</td>\n",
       "      <td>0</td>\n",
       "      <td>0</td>\n",
       "      <td>0</td>\n",
       "      <td>0</td>\n",
       "      <td>0</td>\n",
       "      <td>0</td>\n",
       "    </tr>\n",
       "  </tbody>\n",
       "</table>\n",
       "<p>5 rows × 785 columns</p>\n",
       "</div>"
      ],
      "text/plain": [
       "   label  pixel0  pixel1  pixel2  pixel3  pixel4  pixel5  pixel6  pixel7  \\\n",
       "0      1       0       0       0       0       0       0       0       0   \n",
       "1      0       0       0       0       0       0       0       0       0   \n",
       "2      1       0       0       0       0       0       0       0       0   \n",
       "3      4       0       0       0       0       0       0       0       0   \n",
       "4      0       0       0       0       0       0       0       0       0   \n",
       "\n",
       "   pixel8  ...  pixel774  pixel775  pixel776  pixel777  pixel778  pixel779  \\\n",
       "0       0  ...         0         0         0         0         0         0   \n",
       "1       0  ...         0         0         0         0         0         0   \n",
       "2       0  ...         0         0         0         0         0         0   \n",
       "3       0  ...         0         0         0         0         0         0   \n",
       "4       0  ...         0         0         0         0         0         0   \n",
       "\n",
       "   pixel780  pixel781  pixel782  pixel783  \n",
       "0         0         0         0         0  \n",
       "1         0         0         0         0  \n",
       "2         0         0         0         0  \n",
       "3         0         0         0         0  \n",
       "4         0         0         0         0  \n",
       "\n",
       "[5 rows x 785 columns]"
      ]
     },
     "execution_count": 7,
     "metadata": {},
     "output_type": "execute_result"
    }
   ],
   "source": [
    "train_df = pd.read_csv('C:\\\\Users\\\\Mazen Ali\\\\Documents\\\\digit-recognizer\\\\train.csv')\n",
    "test_df= pd.read_csv('C:\\\\Users\\\\Mazen Ali\\\\Documents\\\\digit-recognizer\\\\test.csv')\n",
    "train_df.head()"
   ]
  },
  {
   "cell_type": "code",
   "execution_count": 8,
   "id": "541e1b2c",
   "metadata": {},
   "outputs": [
    {
     "data": {
      "text/html": [
       "<div>\n",
       "<style scoped>\n",
       "    .dataframe tbody tr th:only-of-type {\n",
       "        vertical-align: middle;\n",
       "    }\n",
       "\n",
       "    .dataframe tbody tr th {\n",
       "        vertical-align: top;\n",
       "    }\n",
       "\n",
       "    .dataframe thead th {\n",
       "        text-align: right;\n",
       "    }\n",
       "</style>\n",
       "<table border=\"1\" class=\"dataframe\">\n",
       "  <thead>\n",
       "    <tr style=\"text-align: right;\">\n",
       "      <th></th>\n",
       "      <th>pixel0</th>\n",
       "      <th>pixel1</th>\n",
       "      <th>pixel2</th>\n",
       "      <th>pixel3</th>\n",
       "      <th>pixel4</th>\n",
       "      <th>pixel5</th>\n",
       "      <th>pixel6</th>\n",
       "      <th>pixel7</th>\n",
       "      <th>pixel8</th>\n",
       "      <th>pixel9</th>\n",
       "      <th>...</th>\n",
       "      <th>pixel774</th>\n",
       "      <th>pixel775</th>\n",
       "      <th>pixel776</th>\n",
       "      <th>pixel777</th>\n",
       "      <th>pixel778</th>\n",
       "      <th>pixel779</th>\n",
       "      <th>pixel780</th>\n",
       "      <th>pixel781</th>\n",
       "      <th>pixel782</th>\n",
       "      <th>pixel783</th>\n",
       "    </tr>\n",
       "  </thead>\n",
       "  <tbody>\n",
       "    <tr>\n",
       "      <th>0</th>\n",
       "      <td>0</td>\n",
       "      <td>0</td>\n",
       "      <td>0</td>\n",
       "      <td>0</td>\n",
       "      <td>0</td>\n",
       "      <td>0</td>\n",
       "      <td>0</td>\n",
       "      <td>0</td>\n",
       "      <td>0</td>\n",
       "      <td>0</td>\n",
       "      <td>...</td>\n",
       "      <td>0</td>\n",
       "      <td>0</td>\n",
       "      <td>0</td>\n",
       "      <td>0</td>\n",
       "      <td>0</td>\n",
       "      <td>0</td>\n",
       "      <td>0</td>\n",
       "      <td>0</td>\n",
       "      <td>0</td>\n",
       "      <td>0</td>\n",
       "    </tr>\n",
       "    <tr>\n",
       "      <th>1</th>\n",
       "      <td>0</td>\n",
       "      <td>0</td>\n",
       "      <td>0</td>\n",
       "      <td>0</td>\n",
       "      <td>0</td>\n",
       "      <td>0</td>\n",
       "      <td>0</td>\n",
       "      <td>0</td>\n",
       "      <td>0</td>\n",
       "      <td>0</td>\n",
       "      <td>...</td>\n",
       "      <td>0</td>\n",
       "      <td>0</td>\n",
       "      <td>0</td>\n",
       "      <td>0</td>\n",
       "      <td>0</td>\n",
       "      <td>0</td>\n",
       "      <td>0</td>\n",
       "      <td>0</td>\n",
       "      <td>0</td>\n",
       "      <td>0</td>\n",
       "    </tr>\n",
       "    <tr>\n",
       "      <th>2</th>\n",
       "      <td>0</td>\n",
       "      <td>0</td>\n",
       "      <td>0</td>\n",
       "      <td>0</td>\n",
       "      <td>0</td>\n",
       "      <td>0</td>\n",
       "      <td>0</td>\n",
       "      <td>0</td>\n",
       "      <td>0</td>\n",
       "      <td>0</td>\n",
       "      <td>...</td>\n",
       "      <td>0</td>\n",
       "      <td>0</td>\n",
       "      <td>0</td>\n",
       "      <td>0</td>\n",
       "      <td>0</td>\n",
       "      <td>0</td>\n",
       "      <td>0</td>\n",
       "      <td>0</td>\n",
       "      <td>0</td>\n",
       "      <td>0</td>\n",
       "    </tr>\n",
       "    <tr>\n",
       "      <th>3</th>\n",
       "      <td>0</td>\n",
       "      <td>0</td>\n",
       "      <td>0</td>\n",
       "      <td>0</td>\n",
       "      <td>0</td>\n",
       "      <td>0</td>\n",
       "      <td>0</td>\n",
       "      <td>0</td>\n",
       "      <td>0</td>\n",
       "      <td>0</td>\n",
       "      <td>...</td>\n",
       "      <td>0</td>\n",
       "      <td>0</td>\n",
       "      <td>0</td>\n",
       "      <td>0</td>\n",
       "      <td>0</td>\n",
       "      <td>0</td>\n",
       "      <td>0</td>\n",
       "      <td>0</td>\n",
       "      <td>0</td>\n",
       "      <td>0</td>\n",
       "    </tr>\n",
       "    <tr>\n",
       "      <th>4</th>\n",
       "      <td>0</td>\n",
       "      <td>0</td>\n",
       "      <td>0</td>\n",
       "      <td>0</td>\n",
       "      <td>0</td>\n",
       "      <td>0</td>\n",
       "      <td>0</td>\n",
       "      <td>0</td>\n",
       "      <td>0</td>\n",
       "      <td>0</td>\n",
       "      <td>...</td>\n",
       "      <td>0</td>\n",
       "      <td>0</td>\n",
       "      <td>0</td>\n",
       "      <td>0</td>\n",
       "      <td>0</td>\n",
       "      <td>0</td>\n",
       "      <td>0</td>\n",
       "      <td>0</td>\n",
       "      <td>0</td>\n",
       "      <td>0</td>\n",
       "    </tr>\n",
       "  </tbody>\n",
       "</table>\n",
       "<p>5 rows × 784 columns</p>\n",
       "</div>"
      ],
      "text/plain": [
       "   pixel0  pixel1  pixel2  pixel3  pixel4  pixel5  pixel6  pixel7  pixel8  \\\n",
       "0       0       0       0       0       0       0       0       0       0   \n",
       "1       0       0       0       0       0       0       0       0       0   \n",
       "2       0       0       0       0       0       0       0       0       0   \n",
       "3       0       0       0       0       0       0       0       0       0   \n",
       "4       0       0       0       0       0       0       0       0       0   \n",
       "\n",
       "   pixel9  ...  pixel774  pixel775  pixel776  pixel777  pixel778  pixel779  \\\n",
       "0       0  ...         0         0         0         0         0         0   \n",
       "1       0  ...         0         0         0         0         0         0   \n",
       "2       0  ...         0         0         0         0         0         0   \n",
       "3       0  ...         0         0         0         0         0         0   \n",
       "4       0  ...         0         0         0         0         0         0   \n",
       "\n",
       "   pixel780  pixel781  pixel782  pixel783  \n",
       "0         0         0         0         0  \n",
       "1         0         0         0         0  \n",
       "2         0         0         0         0  \n",
       "3         0         0         0         0  \n",
       "4         0         0         0         0  \n",
       "\n",
       "[5 rows x 784 columns]"
      ]
     },
     "execution_count": 8,
     "metadata": {},
     "output_type": "execute_result"
    }
   ],
   "source": [
    "test_df.head()"
   ]
  },
  {
   "cell_type": "code",
   "execution_count": 9,
   "id": "271025db",
   "metadata": {},
   "outputs": [
    {
     "data": {
      "text/plain": [
       "(42000, 785)"
      ]
     },
     "execution_count": 9,
     "metadata": {},
     "output_type": "execute_result"
    }
   ],
   "source": [
    "train_df.shape\n"
   ]
  },
  {
   "cell_type": "code",
   "execution_count": 10,
   "id": "e9780dc4",
   "metadata": {},
   "outputs": [
    {
     "data": {
      "text/plain": [
       "(28000, 784)"
      ]
     },
     "execution_count": 10,
     "metadata": {},
     "output_type": "execute_result"
    }
   ],
   "source": [
    "test_df.shape"
   ]
  },
  {
   "cell_type": "code",
   "execution_count": 11,
   "id": "fd7bedb2",
   "metadata": {
    "scrolled": false
   },
   "outputs": [
    {
     "data": {
      "text/plain": [
       "1    4684\n",
       "7    4401\n",
       "3    4351\n",
       "9    4188\n",
       "2    4177\n",
       "6    4137\n",
       "0    4132\n",
       "4    4072\n",
       "8    4063\n",
       "5    3795\n",
       "Name: label, dtype: int64"
      ]
     },
     "execution_count": 11,
     "metadata": {},
     "output_type": "execute_result"
    }
   ],
   "source": [
    "train_df['label'].value_counts()\n"
   ]
  },
  {
   "cell_type": "code",
   "execution_count": 12,
   "id": "6c9b5d4d",
   "metadata": {
    "scrolled": false
   },
   "outputs": [
    {
     "data": {
      "image/png": "[encoded data removed]",
      "text/plain": [
       "<Figure size 800x400 with 1 Axes>"
      ]
     },
     "metadata": {},
     "output_type": "display_data"
    }
   ],
   "source": [
    "plt.figure(figsize=(8,4))\n",
    "sns.histplot(train_df['label'])\n",
    "plt.show()"
   ]
  },
  {
   "cell_type": "code",
   "execution_count": 13,
   "id": "f1f095ea",
   "metadata": {},
   "outputs": [
    {
     "data": {
      "text/html": [
       "<div>\n",
       "<style scoped>\n",
       "    .dataframe tbody tr th:only-of-type {\n",
       "        vertical-align: middle;\n",
       "    }\n",
       "\n",
       "    .dataframe tbody tr th {\n",
       "        vertical-align: top;\n",
       "    }\n",
       "\n",
       "    .dataframe thead th {\n",
       "        text-align: right;\n",
       "    }\n",
       "</style>\n",
       "<table border=\"1\" class=\"dataframe\">\n",
       "  <thead>\n",
       "    <tr style=\"text-align: right;\">\n",
       "      <th></th>\n",
       "      <th>label</th>\n",
       "      <th>pixel0</th>\n",
       "      <th>pixel1</th>\n",
       "      <th>pixel2</th>\n",
       "      <th>pixel3</th>\n",
       "      <th>pixel4</th>\n",
       "      <th>pixel5</th>\n",
       "      <th>pixel6</th>\n",
       "      <th>pixel7</th>\n",
       "      <th>pixel8</th>\n",
       "      <th>...</th>\n",
       "      <th>pixel774</th>\n",
       "      <th>pixel775</th>\n",
       "      <th>pixel776</th>\n",
       "      <th>pixel777</th>\n",
       "      <th>pixel778</th>\n",
       "      <th>pixel779</th>\n",
       "      <th>pixel780</th>\n",
       "      <th>pixel781</th>\n",
       "      <th>pixel782</th>\n",
       "      <th>pixel783</th>\n",
       "    </tr>\n",
       "  </thead>\n",
       "  <tbody>\n",
       "    <tr>\n",
       "      <th>count</th>\n",
       "      <td>42000.000000</td>\n",
       "      <td>42000.0</td>\n",
       "      <td>42000.0</td>\n",
       "      <td>42000.0</td>\n",
       "      <td>42000.0</td>\n",
       "      <td>42000.0</td>\n",
       "      <td>42000.0</td>\n",
       "      <td>42000.0</td>\n",
       "      <td>42000.0</td>\n",
       "      <td>42000.0</td>\n",
       "      <td>...</td>\n",
       "      <td>42000.000000</td>\n",
       "      <td>42000.000000</td>\n",
       "      <td>42000.000000</td>\n",
       "      <td>42000.00000</td>\n",
       "      <td>42000.000000</td>\n",
       "      <td>42000.000000</td>\n",
       "      <td>42000.0</td>\n",
       "      <td>42000.0</td>\n",
       "      <td>42000.0</td>\n",
       "      <td>42000.0</td>\n",
       "    </tr>\n",
       "    <tr>\n",
       "      <th>mean</th>\n",
       "      <td>4.456643</td>\n",
       "      <td>0.0</td>\n",
       "      <td>0.0</td>\n",
       "      <td>0.0</td>\n",
       "      <td>0.0</td>\n",
       "      <td>0.0</td>\n",
       "      <td>0.0</td>\n",
       "      <td>0.0</td>\n",
       "      <td>0.0</td>\n",
       "      <td>0.0</td>\n",
       "      <td>...</td>\n",
       "      <td>0.219286</td>\n",
       "      <td>0.117095</td>\n",
       "      <td>0.059024</td>\n",
       "      <td>0.02019</td>\n",
       "      <td>0.017238</td>\n",
       "      <td>0.002857</td>\n",
       "      <td>0.0</td>\n",
       "      <td>0.0</td>\n",
       "      <td>0.0</td>\n",
       "      <td>0.0</td>\n",
       "    </tr>\n",
       "    <tr>\n",
       "      <th>std</th>\n",
       "      <td>2.887730</td>\n",
       "      <td>0.0</td>\n",
       "      <td>0.0</td>\n",
       "      <td>0.0</td>\n",
       "      <td>0.0</td>\n",
       "      <td>0.0</td>\n",
       "      <td>0.0</td>\n",
       "      <td>0.0</td>\n",
       "      <td>0.0</td>\n",
       "      <td>0.0</td>\n",
       "      <td>...</td>\n",
       "      <td>6.312890</td>\n",
       "      <td>4.633819</td>\n",
       "      <td>3.274488</td>\n",
       "      <td>1.75987</td>\n",
       "      <td>1.894498</td>\n",
       "      <td>0.414264</td>\n",
       "      <td>0.0</td>\n",
       "      <td>0.0</td>\n",
       "      <td>0.0</td>\n",
       "      <td>0.0</td>\n",
       "    </tr>\n",
       "    <tr>\n",
       "      <th>min</th>\n",
       "      <td>0.000000</td>\n",
       "      <td>0.0</td>\n",
       "      <td>0.0</td>\n",
       "      <td>0.0</td>\n",
       "      <td>0.0</td>\n",
       "      <td>0.0</td>\n",
       "      <td>0.0</td>\n",
       "      <td>0.0</td>\n",
       "      <td>0.0</td>\n",
       "      <td>0.0</td>\n",
       "      <td>...</td>\n",
       "      <td>0.000000</td>\n",
       "      <td>0.000000</td>\n",
       "      <td>0.000000</td>\n",
       "      <td>0.00000</td>\n",
       "      <td>0.000000</td>\n",
       "      <td>0.000000</td>\n",
       "      <td>0.0</td>\n",
       "      <td>0.0</td>\n",
       "      <td>0.0</td>\n",
       "      <td>0.0</td>\n",
       "    </tr>\n",
       "    <tr>\n",
       "      <th>25%</th>\n",
       "      <td>2.000000</td>\n",
       "      <td>0.0</td>\n",
       "      <td>0.0</td>\n",
       "      <td>0.0</td>\n",
       "      <td>0.0</td>\n",
       "      <td>0.0</td>\n",
       "      <td>0.0</td>\n",
       "      <td>0.0</td>\n",
       "      <td>0.0</td>\n",
       "      <td>0.0</td>\n",
       "      <td>...</td>\n",
       "      <td>0.000000</td>\n",
       "      <td>0.000000</td>\n",
       "      <td>0.000000</td>\n",
       "      <td>0.00000</td>\n",
       "      <td>0.000000</td>\n",
       "      <td>0.000000</td>\n",
       "      <td>0.0</td>\n",
       "      <td>0.0</td>\n",
       "      <td>0.0</td>\n",
       "      <td>0.0</td>\n",
       "    </tr>\n",
       "    <tr>\n",
       "      <th>50%</th>\n",
       "      <td>4.000000</td>\n",
       "      <td>0.0</td>\n",
       "      <td>0.0</td>\n",
       "      <td>0.0</td>\n",
       "      <td>0.0</td>\n",
       "      <td>0.0</td>\n",
       "      <td>0.0</td>\n",
       "      <td>0.0</td>\n",
       "      <td>0.0</td>\n",
       "      <td>0.0</td>\n",
       "      <td>...</td>\n",
       "      <td>0.000000</td>\n",
       "      <td>0.000000</td>\n",
       "      <td>0.000000</td>\n",
       "      <td>0.00000</td>\n",
       "      <td>0.000000</td>\n",
       "      <td>0.000000</td>\n",
       "      <td>0.0</td>\n",
       "      <td>0.0</td>\n",
       "      <td>0.0</td>\n",
       "      <td>0.0</td>\n",
       "    </tr>\n",
       "    <tr>\n",
       "      <th>75%</th>\n",
       "      <td>7.000000</td>\n",
       "      <td>0.0</td>\n",
       "      <td>0.0</td>\n",
       "      <td>0.0</td>\n",
       "      <td>0.0</td>\n",
       "      <td>0.0</td>\n",
       "      <td>0.0</td>\n",
       "      <td>0.0</td>\n",
       "      <td>0.0</td>\n",
       "      <td>0.0</td>\n",
       "      <td>...</td>\n",
       "      <td>0.000000</td>\n",
       "      <td>0.000000</td>\n",
       "      <td>0.000000</td>\n",
       "      <td>0.00000</td>\n",
       "      <td>0.000000</td>\n",
       "      <td>0.000000</td>\n",
       "      <td>0.0</td>\n",
       "      <td>0.0</td>\n",
       "      <td>0.0</td>\n",
       "      <td>0.0</td>\n",
       "    </tr>\n",
       "    <tr>\n",
       "      <th>max</th>\n",
       "      <td>9.000000</td>\n",
       "      <td>0.0</td>\n",
       "      <td>0.0</td>\n",
       "      <td>0.0</td>\n",
       "      <td>0.0</td>\n",
       "      <td>0.0</td>\n",
       "      <td>0.0</td>\n",
       "      <td>0.0</td>\n",
       "      <td>0.0</td>\n",
       "      <td>0.0</td>\n",
       "      <td>...</td>\n",
       "      <td>254.000000</td>\n",
       "      <td>254.000000</td>\n",
       "      <td>253.000000</td>\n",
       "      <td>253.00000</td>\n",
       "      <td>254.000000</td>\n",
       "      <td>62.000000</td>\n",
       "      <td>0.0</td>\n",
       "      <td>0.0</td>\n",
       "      <td>0.0</td>\n",
       "      <td>0.0</td>\n",
       "    </tr>\n",
       "  </tbody>\n",
       "</table>\n",
       "<p>8 rows × 785 columns</p>\n",
       "</div>"
      ],
      "text/plain": [
       "              label   pixel0   pixel1   pixel2   pixel3   pixel4   pixel5  \\\n",
       "count  42000.000000  42000.0  42000.0  42000.0  42000.0  42000.0  42000.0   \n",
       "mean       4.456643      0.0      0.0      0.0      0.0      0.0      0.0   \n",
       "std        2.887730      0.0      0.0      0.0      0.0      0.0      0.0   \n",
       "min        0.000000      0.0      0.0      0.0      0.0      0.0      0.0   \n",
       "25%        2.000000      0.0      0.0      0.0      0.0      0.0      0.0   \n",
       "50%        4.000000      0.0      0.0      0.0      0.0      0.0      0.0   \n",
       "75%        7.000000      0.0      0.0      0.0      0.0      0.0      0.0   \n",
       "max        9.000000      0.0      0.0      0.0      0.0      0.0      0.0   \n",
       "\n",
       "        pixel6   pixel7   pixel8  ...      pixel774      pixel775  \\\n",
       "count  42000.0  42000.0  42000.0  ...  42000.000000  42000.000000   \n",
       "mean       0.0      0.0      0.0  ...      0.219286      0.117095   \n",
       "std        0.0      0.0      0.0  ...      6.312890      4.633819   \n",
       "min        0.0      0.0      0.0  ...      0.000000      0.000000   \n",
       "25%        0.0      0.0      0.0  ...      0.000000      0.000000   \n",
       "50%        0.0      0.0      0.0  ...      0.000000      0.000000   \n",
       "75%        0.0      0.0      0.0  ...      0.000000      0.000000   \n",
       "max        0.0      0.0      0.0  ...    254.000000    254.000000   \n",
       "\n",
       "           pixel776     pixel777      pixel778      pixel779  pixel780  \\\n",
       "count  42000.000000  42000.00000  42000.000000  42000.000000   42000.0   \n",
       "mean       0.059024      0.02019      0.017238      0.002857       0.0   \n",
       "std        3.274488      1.75987      1.894498      0.414264       0.0   \n",
       "min        0.000000      0.00000      0.000000      0.000000       0.0   \n",
       "25%        0.000000      0.00000      0.000000      0.000000       0.0   \n",
       "50%        0.000000      0.00000      0.000000      0.000000       0.0   \n",
       "75%        0.000000      0.00000      0.000000      0.000000       0.0   \n",
       "max      253.000000    253.00000    254.000000     62.000000       0.0   \n",
       "\n",
       "       pixel781  pixel782  pixel783  \n",
       "count   42000.0   42000.0   42000.0  \n",
       "mean        0.0       0.0       0.0  \n",
       "std         0.0       0.0       0.0  \n",
       "min         0.0       0.0       0.0  \n",
       "25%         0.0       0.0       0.0  \n",
       "50%         0.0       0.0       0.0  \n",
       "75%         0.0       0.0       0.0  \n",
       "max         0.0       0.0       0.0  \n",
       "\n",
       "[8 rows x 785 columns]"
      ]
     },
     "execution_count": 13,
     "metadata": {},
     "output_type": "execute_result"
    }
   ],
   "source": [
    "train_df.describe()\n"
   ]
  },
  {
   "cell_type": "code",
   "execution_count": 14,
   "id": "703a7d0b",
   "metadata": {
    "scrolled": true
   },
   "outputs": [],
   "source": [
    "y_train = train_df.label\n",
    "X_train = train_df.loc[:, train_df.columns != 'label']"
   ]
  },
  {
   "cell_type": "code",
   "execution_count": 15,
   "id": "abef52ba",
   "metadata": {},
   "outputs": [],
   "source": [
    "num_classes = 10\n",
    "epochs = 20"
   ]
  },
  {
   "cell_type": "code",
   "execution_count": 16,
   "id": "965c611e",
   "metadata": {},
   "outputs": [],
   "source": [
    "train_data = np.array(train_df, dtype = 'float32')\n",
    "test_data = np.array(test_df, dtype='float32')"
   ]
  },
  {
   "cell_type": "code",
   "execution_count": 17,
   "id": "235aa3f5",
   "metadata": {
    "scrolled": false
   },
   "outputs": [],
   "source": [
    "x_train = train_data[:,1:]/255\n",
    "y_train = train_data[:,0]\n",
    "x_test= test_data[:]/255\n",
    "\n",
    "x_train,x_validate,y_train,y_validate = train_test_split(x_train,y_train,test_size = 0.2,random_state = 12345)"
   ]
  },
  {
   "cell_type": "code",
   "execution_count": 18,
   "id": "7db7f765",
   "metadata": {},
   "outputs": [],
   "source": [
    "image_rows = 28\n",
    "image_cols = 28\n",
    "batch_size = 4096\n",
    "image_shape = (image_rows,image_cols,1) "
   ]
  },
  {
   "cell_type": "code",
   "execution_count": 19,
   "id": "aa86d413",
   "metadata": {},
   "outputs": [
    {
     "name": "stdout",
     "output_type": "stream",
     "text": [
      "(33600, 784)\n",
      "(28000, 784)\n"
     ]
    }
   ],
   "source": [
    "print(x_train.shape)\n",
    "print(x_test.shape)"
   ]
  },
  {
   "cell_type": "code",
   "execution_count": 20,
   "id": "fdef0bd6",
   "metadata": {},
   "outputs": [
    {
     "data": {
      "text/plain": [
       "(33600, 28, 28, 1)"
      ]
     },
     "execution_count": 20,
     "metadata": {},
     "output_type": "execute_result"
    }
   ],
   "source": [
    "x_train = x_train.reshape(x_train.shape[0],*image_shape)\n",
    "x_train.shape"
   ]
  },
  {
   "cell_type": "code",
   "execution_count": 54,
   "id": "452c6236",
   "metadata": {},
   "outputs": [],
   "source": [
    "x_train = x_train.reshape(x_train.shape[0],*image_shape)\n",
    "x_test = x_test.reshape(x_test.shape[0],*image_shape)\n",
    "x_validate = x_validate.reshape(x_validate.shape[0],*image_shape)"
   ]
  },
  {
   "cell_type": "code",
   "execution_count": 55,
   "id": "337f0120",
   "metadata": {},
   "outputs": [],
   "source": [
    "cnn_model = Sequential([\n",
    "    Conv2D(filters=32,kernel_size=3,activation='relu',input_shape = image_shape),\n",
    "    MaxPooling2D(pool_size=2) ,# down sampling the output instead of 28*28 it is 14*14\n",
    "    Dropout(0.25),\n",
    "    Flatten(), # flatten out the layers\n",
    "    Dense(32,activation='relu'),\n",
    "    Dense(10,activation = 'softmax')\n",
    "    \n",
    "])\n",
    "\n",
    "cnn_model.compile(loss ='sparse_categorical_crossentropy', optimizer=Adam(lr=0.001),metrics =['accuracy'])\n"
   ]
  },
  {
   "cell_type": "code",
   "execution_count": 56,
   "id": "1568e6b4",
   "metadata": {
    "scrolled": true
   },
   "outputs": [
    {
     "name": "stdout",
     "output_type": "stream",
     "text": [
      "Model: \"sequential_3\"\n",
      "_________________________________________________________________\n",
      " Layer (type)                Output Shape              Param #   \n",
      "=================================================================\n",
      " conv2d_3 (Conv2D)           (None, 26, 26, 32)        320       \n",
      "                                                                 \n",
      " max_pooling2d_3 (MaxPooling  (None, 13, 13, 32)       0         \n",
      " 2D)                                                             \n",
      "                                                                 \n",
      " dropout_3 (Dropout)         (None, 13, 13, 32)        0         \n",
      "                                                                 \n",
      " flatten_3 (Flatten)         (None, 5408)              0         \n",
      "                                                                 \n",
      " dense_6 (Dense)             (None, 32)                173088    \n",
      "                                                                 \n",
      " dense_7 (Dense)             (None, 10)                330       \n",
      "                                                                 \n",
      "=================================================================\n",
      "Total params: 173,738\n",
      "Trainable params: 173,738\n",
      "Non-trainable params: 0\n",
      "_________________________________________________________________\n"
     ]
    }
   ],
   "source": [
    "cnn_model.summary()"
   ]
  },
  {
   "cell_type": "code",
   "execution_count": 57,
   "id": "95dac67d",
   "metadata": {
    "scrolled": false
   },
   "outputs": [
    {
     "name": "stdout",
     "output_type": "stream",
     "text": [
      "Epoch 1/80\n",
      "9/9 [==============================] - 1s 50ms/step - loss: 2.0432 - accuracy: 0.3893 - val_loss: 1.5172 - val_accuracy: 0.6911\n",
      "Epoch 2/80\n",
      "9/9 [==============================] - 0s 31ms/step - loss: 1.1940 - accuracy: 0.7535 - val_loss: 0.7822 - val_accuracy: 0.8327\n",
      "Epoch 3/80\n",
      "9/9 [==============================] - 0s 32ms/step - loss: 0.6404 - accuracy: 0.8417 - val_loss: 0.4874 - val_accuracy: 0.8637\n",
      "Epoch 4/80\n",
      "9/9 [==============================] - 0s 31ms/step - loss: 0.4451 - accuracy: 0.8715 - val_loss: 0.3877 - val_accuracy: 0.8839\n",
      "Epoch 5/80\n",
      "9/9 [==============================] - 0s 31ms/step - loss: 0.3702 - accuracy: 0.8908 - val_loss: 0.3368 - val_accuracy: 0.9013\n",
      "Epoch 6/80\n",
      "9/9 [==============================] - 0s 31ms/step - loss: 0.3272 - accuracy: 0.9040 - val_loss: 0.3055 - val_accuracy: 0.9099\n",
      "Epoch 7/80\n",
      "9/9 [==============================] - 0s 31ms/step - loss: 0.2978 - accuracy: 0.9127 - val_loss: 0.2839 - val_accuracy: 0.9169\n",
      "Epoch 8/80\n",
      "9/9 [==============================] - 0s 32ms/step - loss: 0.2774 - accuracy: 0.9195 - val_loss: 0.2671 - val_accuracy: 0.9221\n",
      "Epoch 9/80\n",
      "9/9 [==============================] - 0s 31ms/step - loss: 0.2599 - accuracy: 0.9239 - val_loss: 0.2512 - val_accuracy: 0.9270\n",
      "Epoch 10/80\n",
      "9/9 [==============================] - 0s 31ms/step - loss: 0.2418 - accuracy: 0.9301 - val_loss: 0.2374 - val_accuracy: 0.9296\n",
      "Epoch 11/80\n",
      "9/9 [==============================] - 0s 31ms/step - loss: 0.2302 - accuracy: 0.9332 - val_loss: 0.2291 - val_accuracy: 0.9330\n",
      "Epoch 12/80\n",
      "9/9 [==============================] - 0s 31ms/step - loss: 0.2183 - accuracy: 0.9376 - val_loss: 0.2140 - val_accuracy: 0.9387\n",
      "Epoch 13/80\n",
      "9/9 [==============================] - 0s 31ms/step - loss: 0.2066 - accuracy: 0.9406 - val_loss: 0.2041 - val_accuracy: 0.9400\n",
      "Epoch 14/80\n",
      "9/9 [==============================] - 0s 31ms/step - loss: 0.1962 - accuracy: 0.9440 - val_loss: 0.1948 - val_accuracy: 0.9432\n",
      "Epoch 15/80\n",
      "9/9 [==============================] - 0s 32ms/step - loss: 0.1857 - accuracy: 0.9462 - val_loss: 0.1864 - val_accuracy: 0.9444\n",
      "Epoch 16/80\n",
      "9/9 [==============================] - 0s 32ms/step - loss: 0.1771 - accuracy: 0.9482 - val_loss: 0.1782 - val_accuracy: 0.9475\n",
      "Epoch 17/80\n",
      "9/9 [==============================] - 0s 31ms/step - loss: 0.1683 - accuracy: 0.9519 - val_loss: 0.1707 - val_accuracy: 0.9496\n",
      "Epoch 18/80\n",
      "9/9 [==============================] - 0s 31ms/step - loss: 0.1606 - accuracy: 0.9548 - val_loss: 0.1636 - val_accuracy: 0.9515\n",
      "Epoch 19/80\n",
      "9/9 [==============================] - 0s 31ms/step - loss: 0.1530 - accuracy: 0.9567 - val_loss: 0.1565 - val_accuracy: 0.9536\n",
      "Epoch 20/80\n",
      "9/9 [==============================] - 0s 31ms/step - loss: 0.1452 - accuracy: 0.9593 - val_loss: 0.1509 - val_accuracy: 0.9562\n",
      "Epoch 21/80\n",
      "9/9 [==============================] - 0s 31ms/step - loss: 0.1396 - accuracy: 0.9603 - val_loss: 0.1449 - val_accuracy: 0.9571\n",
      "Epoch 22/80\n",
      "9/9 [==============================] - 0s 32ms/step - loss: 0.1344 - accuracy: 0.9609 - val_loss: 0.1378 - val_accuracy: 0.9592\n",
      "Epoch 23/80\n",
      "9/9 [==============================] - 0s 31ms/step - loss: 0.1287 - accuracy: 0.9638 - val_loss: 0.1330 - val_accuracy: 0.9604\n",
      "Epoch 24/80\n",
      "9/9 [==============================] - 0s 31ms/step - loss: 0.1237 - accuracy: 0.9649 - val_loss: 0.1305 - val_accuracy: 0.9613\n",
      "Epoch 25/80\n",
      "9/9 [==============================] - 0s 31ms/step - loss: 0.1198 - accuracy: 0.9657 - val_loss: 0.1255 - val_accuracy: 0.9642\n",
      "Epoch 26/80\n",
      "9/9 [==============================] - 0s 31ms/step - loss: 0.1148 - accuracy: 0.9672 - val_loss: 0.1222 - val_accuracy: 0.9633\n",
      "Epoch 27/80\n",
      "9/9 [==============================] - 0s 31ms/step - loss: 0.1117 - accuracy: 0.9682 - val_loss: 0.1162 - val_accuracy: 0.9652\n",
      "Epoch 28/80\n",
      "9/9 [==============================] - 0s 31ms/step - loss: 0.1070 - accuracy: 0.9703 - val_loss: 0.1120 - val_accuracy: 0.9667\n",
      "Epoch 29/80\n",
      "9/9 [==============================] - 0s 31ms/step - loss: 0.1039 - accuracy: 0.9698 - val_loss: 0.1104 - val_accuracy: 0.9676\n",
      "Epoch 30/80\n",
      "9/9 [==============================] - 0s 31ms/step - loss: 0.1002 - accuracy: 0.9714 - val_loss: 0.1080 - val_accuracy: 0.9683\n",
      "Epoch 31/80\n",
      "9/9 [==============================] - 0s 31ms/step - loss: 0.0972 - accuracy: 0.9721 - val_loss: 0.1048 - val_accuracy: 0.9689\n",
      "Epoch 32/80\n",
      "9/9 [==============================] - 0s 31ms/step - loss: 0.0947 - accuracy: 0.9730 - val_loss: 0.1013 - val_accuracy: 0.9707\n",
      "Epoch 33/80\n",
      "9/9 [==============================] - 0s 31ms/step - loss: 0.0910 - accuracy: 0.9744 - val_loss: 0.0985 - val_accuracy: 0.9726\n",
      "Epoch 34/80\n",
      "9/9 [==============================] - 0s 31ms/step - loss: 0.0882 - accuracy: 0.9745 - val_loss: 0.0995 - val_accuracy: 0.9723\n",
      "Epoch 35/80\n",
      "9/9 [==============================] - 0s 31ms/step - loss: 0.0868 - accuracy: 0.9750 - val_loss: 0.0963 - val_accuracy: 0.9725\n",
      "Epoch 36/80\n",
      "9/9 [==============================] - 0s 31ms/step - loss: 0.0838 - accuracy: 0.9775 - val_loss: 0.0953 - val_accuracy: 0.9726\n",
      "Epoch 37/80\n",
      "9/9 [==============================] - 0s 31ms/step - loss: 0.0821 - accuracy: 0.9762 - val_loss: 0.0923 - val_accuracy: 0.9733\n",
      "Epoch 38/80\n",
      "9/9 [==============================] - 0s 31ms/step - loss: 0.0801 - accuracy: 0.9777 - val_loss: 0.0907 - val_accuracy: 0.9739\n",
      "Epoch 39/80\n",
      "9/9 [==============================] - 0s 31ms/step - loss: 0.0778 - accuracy: 0.9773 - val_loss: 0.0903 - val_accuracy: 0.9745\n",
      "Epoch 40/80\n",
      "9/9 [==============================] - 0s 31ms/step - loss: 0.0762 - accuracy: 0.9777 - val_loss: 0.0872 - val_accuracy: 0.9744\n",
      "Epoch 41/80\n",
      "9/9 [==============================] - 0s 32ms/step - loss: 0.0741 - accuracy: 0.9785 - val_loss: 0.0845 - val_accuracy: 0.9757\n",
      "Epoch 42/80\n",
      "9/9 [==============================] - 0s 33ms/step - loss: 0.0725 - accuracy: 0.9796 - val_loss: 0.0854 - val_accuracy: 0.9755\n",
      "Epoch 43/80\n",
      "9/9 [==============================] - 0s 31ms/step - loss: 0.0719 - accuracy: 0.9786 - val_loss: 0.0843 - val_accuracy: 0.9762\n",
      "Epoch 44/80\n",
      "9/9 [==============================] - 0s 32ms/step - loss: 0.0697 - accuracy: 0.9801 - val_loss: 0.0830 - val_accuracy: 0.9762\n",
      "Epoch 45/80\n",
      "9/9 [==============================] - 0s 31ms/step - loss: 0.0682 - accuracy: 0.9808 - val_loss: 0.0826 - val_accuracy: 0.9767\n",
      "Epoch 46/80\n",
      "9/9 [==============================] - 0s 31ms/step - loss: 0.0677 - accuracy: 0.9796 - val_loss: 0.0805 - val_accuracy: 0.9765\n",
      "Epoch 47/80\n",
      "9/9 [==============================] - 0s 31ms/step - loss: 0.0653 - accuracy: 0.9807 - val_loss: 0.0791 - val_accuracy: 0.9765\n",
      "Epoch 48/80\n",
      "9/9 [==============================] - 0s 32ms/step - loss: 0.0650 - accuracy: 0.9814 - val_loss: 0.0779 - val_accuracy: 0.9768\n",
      "Epoch 49/80\n",
      "9/9 [==============================] - 0s 31ms/step - loss: 0.0633 - accuracy: 0.9818 - val_loss: 0.0782 - val_accuracy: 0.9770\n",
      "Epoch 50/80\n",
      "9/9 [==============================] - 0s 32ms/step - loss: 0.0632 - accuracy: 0.9811 - val_loss: 0.0773 - val_accuracy: 0.9785\n",
      "Epoch 51/80\n",
      "9/9 [==============================] - 0s 31ms/step - loss: 0.0614 - accuracy: 0.9822 - val_loss: 0.0754 - val_accuracy: 0.9780\n",
      "Epoch 52/80\n",
      "9/9 [==============================] - 0s 31ms/step - loss: 0.0596 - accuracy: 0.9836 - val_loss: 0.0753 - val_accuracy: 0.9776\n",
      "Epoch 53/80\n",
      "9/9 [==============================] - 0s 32ms/step - loss: 0.0590 - accuracy: 0.9832 - val_loss: 0.0740 - val_accuracy: 0.9776\n",
      "Epoch 54/80\n",
      "9/9 [==============================] - 0s 31ms/step - loss: 0.0589 - accuracy: 0.9829 - val_loss: 0.0738 - val_accuracy: 0.9780\n",
      "Epoch 55/80\n",
      "9/9 [==============================] - 0s 31ms/step - loss: 0.0568 - accuracy: 0.9831 - val_loss: 0.0738 - val_accuracy: 0.9779\n",
      "Epoch 56/80\n",
      "9/9 [==============================] - 0s 31ms/step - loss: 0.0551 - accuracy: 0.9840 - val_loss: 0.0743 - val_accuracy: 0.9782\n",
      "Epoch 57/80\n",
      "9/9 [==============================] - 0s 31ms/step - loss: 0.0551 - accuracy: 0.9840 - val_loss: 0.0727 - val_accuracy: 0.9788\n",
      "Epoch 58/80\n",
      "9/9 [==============================] - 0s 32ms/step - loss: 0.0559 - accuracy: 0.9833 - val_loss: 0.0727 - val_accuracy: 0.9783\n",
      "Epoch 59/80\n"
     ]
    },
    {
     "name": "stdout",
     "output_type": "stream",
     "text": [
      "9/9 [==============================] - 0s 32ms/step - loss: 0.0539 - accuracy: 0.9842 - val_loss: 0.0713 - val_accuracy: 0.9790\n",
      "Epoch 60/80\n",
      "9/9 [==============================] - 0s 32ms/step - loss: 0.0525 - accuracy: 0.9845 - val_loss: 0.0716 - val_accuracy: 0.9796\n",
      "Epoch 61/80\n",
      "9/9 [==============================] - 0s 32ms/step - loss: 0.0519 - accuracy: 0.9847 - val_loss: 0.0700 - val_accuracy: 0.9794\n",
      "Epoch 62/80\n",
      "9/9 [==============================] - 0s 32ms/step - loss: 0.0516 - accuracy: 0.9841 - val_loss: 0.0700 - val_accuracy: 0.9789\n",
      "Epoch 63/80\n",
      "9/9 [==============================] - 0s 31ms/step - loss: 0.0497 - accuracy: 0.9849 - val_loss: 0.0707 - val_accuracy: 0.9794\n",
      "Epoch 64/80\n",
      "9/9 [==============================] - 0s 31ms/step - loss: 0.0498 - accuracy: 0.9858 - val_loss: 0.0702 - val_accuracy: 0.9785\n",
      "Epoch 65/80\n",
      "9/9 [==============================] - 0s 32ms/step - loss: 0.0493 - accuracy: 0.9854 - val_loss: 0.0684 - val_accuracy: 0.9795\n",
      "Epoch 66/80\n",
      "9/9 [==============================] - 0s 31ms/step - loss: 0.0473 - accuracy: 0.9862 - val_loss: 0.0696 - val_accuracy: 0.9793\n",
      "Epoch 67/80\n",
      "9/9 [==============================] - 0s 31ms/step - loss: 0.0477 - accuracy: 0.9862 - val_loss: 0.0664 - val_accuracy: 0.9798\n",
      "Epoch 68/80\n",
      "9/9 [==============================] - 0s 31ms/step - loss: 0.0468 - accuracy: 0.9860 - val_loss: 0.0682 - val_accuracy: 0.9798\n",
      "Epoch 69/80\n",
      "9/9 [==============================] - 0s 32ms/step - loss: 0.0468 - accuracy: 0.9862 - val_loss: 0.0692 - val_accuracy: 0.9805\n",
      "Epoch 70/80\n",
      "9/9 [==============================] - 0s 31ms/step - loss: 0.0471 - accuracy: 0.9856 - val_loss: 0.0664 - val_accuracy: 0.9808\n",
      "Epoch 71/80\n",
      "9/9 [==============================] - 0s 31ms/step - loss: 0.0448 - accuracy: 0.9865 - val_loss: 0.0657 - val_accuracy: 0.9806\n",
      "Epoch 72/80\n",
      "9/9 [==============================] - 0s 30ms/step - loss: 0.0430 - accuracy: 0.9876 - val_loss: 0.0659 - val_accuracy: 0.9812\n",
      "Epoch 73/80\n",
      "9/9 [==============================] - 0s 31ms/step - loss: 0.0430 - accuracy: 0.9873 - val_loss: 0.0648 - val_accuracy: 0.9812\n",
      "Epoch 74/80\n",
      "9/9 [==============================] - 0s 30ms/step - loss: 0.0428 - accuracy: 0.9876 - val_loss: 0.0667 - val_accuracy: 0.9807\n",
      "Epoch 75/80\n",
      "9/9 [==============================] - 0s 32ms/step - loss: 0.0430 - accuracy: 0.9870 - val_loss: 0.0663 - val_accuracy: 0.9807\n",
      "Epoch 76/80\n",
      "9/9 [==============================] - 0s 31ms/step - loss: 0.0418 - accuracy: 0.9874 - val_loss: 0.0640 - val_accuracy: 0.9804\n",
      "Epoch 77/80\n",
      "9/9 [==============================] - 0s 31ms/step - loss: 0.0402 - accuracy: 0.9884 - val_loss: 0.0648 - val_accuracy: 0.9807\n",
      "Epoch 78/80\n",
      "9/9 [==============================] - 0s 31ms/step - loss: 0.0421 - accuracy: 0.9876 - val_loss: 0.0648 - val_accuracy: 0.9802\n",
      "Epoch 79/80\n",
      "9/9 [==============================] - 0s 31ms/step - loss: 0.0398 - accuracy: 0.9881 - val_loss: 0.0631 - val_accuracy: 0.9810\n",
      "Epoch 80/80\n",
      "9/9 [==============================] - 0s 30ms/step - loss: 0.0401 - accuracy: 0.9885 - val_loss: 0.0627 - val_accuracy: 0.9810\n"
     ]
    }
   ],
   "source": [
    "history = cnn_model.fit(\n",
    "    x_train,\n",
    "    y_train,\n",
    "    batch_size=4096,\n",
    "    epochs=80,\n",
    "    verbose=1,\n",
    "    validation_data=(x_validate,y_validate),\n",
    ")"
   ]
  },
  {
   "cell_type": "code",
   "execution_count": 58,
   "id": "55425115",
   "metadata": {},
   "outputs": [
    {
     "name": "stdout",
     "output_type": "stream",
     "text": [
      "263/263 [==============================] - 1s 3ms/step - loss: 0.0627 - accuracy: 0.9810\n",
      "Test Accuracy: 98.09523820877075\n"
     ]
    }
   ],
   "source": [
    "scores = cnn_model.evaluate(x_validate,y_validate)\n",
    "print(f\"Test Accuracy: {scores[1]*100}\")"
   ]
  },
  {
   "cell_type": "code",
   "execution_count": 59,
   "id": "88066df5",
   "metadata": {},
   "outputs": [
    {
     "data": {
      "image/png": "[encoded data removed]",
      "text/plain": [
       "<Figure size 1000x1000 with 36 Axes>"
      ]
     },
     "metadata": {},
     "output_type": "display_data"
    }
   ],
   "source": [
    "class_names = [str(i) for i in range(10)]\n",
    "plt.figure(figsize=(10, 10))\n",
    "for i in range(36):\n",
    "    plt.subplot(6, 6, i + 1)\n",
    "    plt.xticks([])\n",
    "    plt.yticks([])\n",
    "    plt.grid(False)\n",
    "    plt.imshow(x_train[i].reshape((28,28)))\n",
    "    label_index = int(y_train[i])\n",
    "    plt.title(class_names[label_index])\n",
    "plt.show()"
   ]
  },
  {
   "cell_type": "code",
   "execution_count": 60,
   "id": "0a5609bd",
   "metadata": {
    "scrolled": true
   },
   "outputs": [
    {
     "data": {
      "text/plain": [
       "dict_keys(['loss', 'accuracy', 'val_loss', 'val_accuracy'])"
      ]
     },
     "execution_count": 60,
     "metadata": {},
     "output_type": "execute_result"
    }
   ],
   "source": [
    "history.history.keys()\n"
   ]
  },
  {
   "cell_type": "code",
   "execution_count": 61,
   "id": "ca9b9f85",
   "metadata": {
    "scrolled": false
   },
   "outputs": [
    {
     "data": {
      "text/plain": [
       "Text(0.5, 1.0, 'Train - Accuracy')"
      ]
     },
     "execution_count": 61,
     "metadata": {},
     "output_type": "execute_result"
    },
    {
     "data": {
      "image/png": "[encoded data removed]",
      "text/plain": [
       "<Figure size 1000x1000 with 2 Axes>"
      ]
     },
     "metadata": {},
     "output_type": "display_data"
    }
   ],
   "source": [
    "plt.figure(figsize=(10, 10))\n",
    "\n",
    "plt.subplot(2, 2, 1)\n",
    "plt.plot(history.history['loss'], label='Loss')\n",
    "plt.plot(history.history['val_loss'], label='Validation Loss')\n",
    "plt.legend()\n",
    "plt.title('Training - Loss Function')\n",
    "\n",
    "plt.subplot(2, 2, 2)\n",
    "plt.plot(history.history['accuracy'], label='Accuracy')\n",
    "plt.plot(history.history['val_accuracy'], label='Validation Accuracy')\n",
    "plt.legend()\n",
    "plt.title('Train - Accuracy')"
   ]
  },
  {
   "cell_type": "code",
   "execution_count": 62,
   "id": "ff990dfa",
   "metadata": {
    "scrolled": false
   },
   "outputs": [
    {
     "name": "stdout",
     "output_type": "stream",
     "text": [
      "263/263 [==============================] - 1s 3ms/step\n"
     ]
    }
   ],
   "source": [
    "cnn_array = cnn_model.predict(x_validate)"
   ]
  },
  {
   "cell_type": "code",
   "execution_count": 63,
   "id": "25a90708",
   "metadata": {
    "scrolled": true
   },
   "outputs": [
    {
     "data": {
      "text/plain": [
       "array([1.41146475e-05, 9.99731362e-01, 7.22421782e-06, 2.92465484e-06,\n",
       "       8.31062425e-06, 5.25891228e-05, 6.36586992e-05, 3.21116931e-05,\n",
       "       8.61273293e-05, 1.56437011e-06], dtype=float32)"
      ]
     },
     "execution_count": 63,
     "metadata": {},
     "output_type": "execute_result"
    }
   ],
   "source": [
    "cnn_array[0]\n"
   ]
  },
  {
   "cell_type": "code",
   "execution_count": 64,
   "id": "69eeb85d",
   "metadata": {},
   "outputs": [],
   "source": [
    "cnn_label_array = [np.argmax(cnn_array[i]) for i in range(len(cnn_array))]"
   ]
  },
  {
   "cell_type": "code",
   "execution_count": 65,
   "id": "a5ece96e",
   "metadata": {},
   "outputs": [],
   "source": [
    "cnn_output_df = pd.DataFrame()\n",
    "cnn_output_df['Label'] = cnn_label_array\n",
    "cnn_output_df.index +=1\n",
    "cnn_output_df.index.name = \"ImageId\""
   ]
  },
  {
   "cell_type": "code",
   "execution_count": 66,
   "id": "bd2ca002",
   "metadata": {},
   "outputs": [
    {
     "data": {
      "text/html": [
       "<div>\n",
       "<style scoped>\n",
       "    .dataframe tbody tr th:only-of-type {\n",
       "        vertical-align: middle;\n",
       "    }\n",
       "\n",
       "    .dataframe tbody tr th {\n",
       "        vertical-align: top;\n",
       "    }\n",
       "\n",
       "    .dataframe thead th {\n",
       "        text-align: right;\n",
       "    }\n",
       "</style>\n",
       "<table border=\"1\" class=\"dataframe\">\n",
       "  <thead>\n",
       "    <tr style=\"text-align: right;\">\n",
       "      <th></th>\n",
       "      <th>Label</th>\n",
       "    </tr>\n",
       "    <tr>\n",
       "      <th>ImageId</th>\n",
       "      <th></th>\n",
       "    </tr>\n",
       "  </thead>\n",
       "  <tbody>\n",
       "    <tr>\n",
       "      <th>1</th>\n",
       "      <td>1</td>\n",
       "    </tr>\n",
       "    <tr>\n",
       "      <th>2</th>\n",
       "      <td>4</td>\n",
       "    </tr>\n",
       "    <tr>\n",
       "      <th>3</th>\n",
       "      <td>3</td>\n",
       "    </tr>\n",
       "    <tr>\n",
       "      <th>4</th>\n",
       "      <td>9</td>\n",
       "    </tr>\n",
       "    <tr>\n",
       "      <th>5</th>\n",
       "      <td>4</td>\n",
       "    </tr>\n",
       "    <tr>\n",
       "      <th>...</th>\n",
       "      <td>...</td>\n",
       "    </tr>\n",
       "    <tr>\n",
       "      <th>8396</th>\n",
       "      <td>3</td>\n",
       "    </tr>\n",
       "    <tr>\n",
       "      <th>8397</th>\n",
       "      <td>4</td>\n",
       "    </tr>\n",
       "    <tr>\n",
       "      <th>8398</th>\n",
       "      <td>9</td>\n",
       "    </tr>\n",
       "    <tr>\n",
       "      <th>8399</th>\n",
       "      <td>3</td>\n",
       "    </tr>\n",
       "    <tr>\n",
       "      <th>8400</th>\n",
       "      <td>0</td>\n",
       "    </tr>\n",
       "  </tbody>\n",
       "</table>\n",
       "<p>8400 rows × 1 columns</p>\n",
       "</div>"
      ],
      "text/plain": [
       "         Label\n",
       "ImageId       \n",
       "1            1\n",
       "2            4\n",
       "3            3\n",
       "4            9\n",
       "5            4\n",
       "...        ...\n",
       "8396         3\n",
       "8397         4\n",
       "8398         9\n",
       "8399         3\n",
       "8400         0\n",
       "\n",
       "[8400 rows x 1 columns]"
      ]
     },
     "execution_count": 66,
     "metadata": {},
     "output_type": "execute_result"
    }
   ],
   "source": [
    "cnn_output_df"
   ]
  },
  {
   "cell_type": "code",
   "execution_count": 67,
   "id": "d6ac4d2d",
   "metadata": {
    "scrolled": true
   },
   "outputs": [
    {
     "data": {
      "image/png": "[encoded data removed]",
      "text/plain": [
       "<Figure size 640x480 with 1 Axes>"
      ]
     },
     "metadata": {},
     "output_type": "display_data"
    }
   ],
   "source": [
    "plt.imshow(x_validate[1][:,:,0])\n",
    "plt.show()"
   ]
  },
  {
   "cell_type": "code",
   "execution_count": 68,
   "id": "6bfd5108",
   "metadata": {
    "scrolled": false
   },
   "outputs": [
    {
     "name": "stdout",
     "output_type": "stream",
     "text": [
      "1050/1050 [==============================] - 2s 2ms/step\n"
     ]
    },
    {
     "data": {
      "image/png": "[encoded data removed]",
      "text/plain": [
       "<Figure size 600x600 with 9 Axes>"
      ]
     },
     "metadata": {},
     "output_type": "display_data"
    }
   ],
   "source": [
    "# Get the predictions on the test set\n",
    "y_pred = cnn_model.predict(x_train)\n",
    "\n",
    "# Convert the predictions to integer labels\n",
    "y_pred = np.argmax(y_pred, axis=1)\n",
    "\n",
    "# Plot some examples of the test set with their predicted labels\n",
    "num_examples = 9\n",
    "plt.figure(figsize=(6,6))\n",
    "for i in range(num_examples):\n",
    "    plt.subplot(3, 3, i+1)\n",
    "    plt.xticks([])\n",
    "    plt.yticks([])\n",
    "    plt.grid(False)\n",
    "    plt.imshow(x_train[i], cmap=plt.cm.binary)\n",
    "    plt.xlabel('Predicted Label: {}'.format(y_pred[i]))\n",
    "plt.show()"
   ]
  },
  {
   "cell_type": "code",
   "execution_count": 74,
   "id": "c2d2d45d",
   "metadata": {
    "scrolled": false
   },
   "outputs": [
    {
     "name": "stdout",
     "output_type": "stream",
     "text": [
      "              precision    recall  f1-score   support\n",
      "\n",
      "           0       1.00      0.99      1.00      3281\n",
      "           1       1.00      1.00      1.00      3767\n",
      "           2       0.99      0.99      0.99      3347\n",
      "           3       0.99      0.99      0.99      3440\n",
      "           4       0.99      0.99      0.99      3265\n",
      "           5       1.00      0.99      0.99      3027\n",
      "           6       1.00      1.00      1.00      3326\n",
      "           7       0.99      0.99      0.99      3579\n",
      "           8       0.99      0.99      0.99      3245\n",
      "           9       0.98      0.99      0.99      3323\n",
      "\n",
      "    accuracy                           0.99     33600\n",
      "   macro avg       0.99      0.99      0.99     33600\n",
      "weighted avg       0.99      0.99      0.99     33600\n",
      "\n"
     ]
    }
   ],
   "source": [
    "print(classification_report(y_pred, y_train))\n"
   ]
  },
  {
   "cell_type": "code",
   "execution_count": 77,
   "id": "35b5dc99",
   "metadata": {},
   "outputs": [
    {
     "data": {
      "text/plain": [
       "<sklearn.metrics._plot.confusion_matrix.ConfusionMatrixDisplay at 0x22ca27e84f0>"
      ]
     },
     "execution_count": 77,
     "metadata": {},
     "output_type": "execute_result"
    },
    {
     "data": {
      "image/png": "[encoded data removed]",
      "text/plain": [
       "<Figure size 640x480 with 2 Axes>"
      ]
     },
     "metadata": {},
     "output_type": "display_data"
    }
   ],
   "source": [
    "ConfusionMatrixDisplay.from_predictions(y_train, y_pred,\n",
    "                                        display_labels = range(0,10),\n",
    "                                        cmap=plt.cm.Reds)"
   ]
  },
  {
   "cell_type": "code",
   "execution_count": null,
   "id": "f113015c",
   "metadata": {},
   "outputs": [],
   "source": []
  }
 ],
 "metadata": {
  "kernelspec": {
   "display_name": "Python 3 (ipykernel)",
   "language": "python",
   "name": "python3"
  },
  "language_info": {
   "codemirror_mode": {
    "name": "ipython",
    "version": 3
   },
   "file_extension": ".py",
   "mimetype": "text/x-python",
   "name": "python",
   "nbconvert_exporter": "python",
   "pygments_lexer": "ipython3",
   "version": "3.10.12"
  }
 },
 "nbformat": 4,
 "nbformat_minor": 5
}
